{
 "cells": [
  {
   "cell_type": "markdown",
   "metadata": {},
   "source": [
    "# TP 2-3 : Branch-and-bound applied to a knapsack problem"
   ]
  },
  {
   "cell_type": "markdown",
   "metadata": {},
   "source": [
    "### Initialisation (à faire une seule fois)"
   ]
  },
  {
   "cell_type": "code",
   "execution_count": 2,
   "metadata": {},
   "outputs": [
    {
     "name": "stderr",
     "output_type": "stream",
     "text": [
      "\u001b[32m\u001b[1m    Updating\u001b[22m\u001b[39m registry at `C:\\Users\\bonet\\.julia\\registries\\General`\n"
     ]
    },
    {
     "name": "stderr",
     "output_type": "stream",
     "text": [
      "\u001b[32m\u001b[1m    Updating\u001b[22m\u001b[39m git-repo `https://github.com/JuliaRegistries/General.git`\n"
     ]
    },
    {
     "name": "stderr",
     "output_type": "stream",
     "text": [
      "\u001b[32m\u001b[1m   Resolving\u001b[22m\u001b[39m"
     ]
    },
    {
     "name": "stderr",
     "output_type": "stream",
     "text": [
      " package versions...\n",
      "\u001b[32m\u001b[1m  No Changes\u001b[22m\u001b[39m to `C:\\Users\\bonet\\.julia\\environments\\v1.8\\Project.toml`\n",
      "\u001b[32m\u001b[1m  No Changes\u001b[22m\u001b[39m to `C:\\Users\\bonet\\.julia\\environments\\v1.8\\Manifest.toml`\n"
     ]
    },
    {
     "name": "stderr",
     "output_type": "stream",
     "text": [
      "\u001b[32m\u001b[1m   Resolving\u001b[22m\u001b[39m package versions..."
     ]
    },
    {
     "name": "stderr",
     "output_type": "stream",
     "text": [
      "\n",
      "\u001b[32m\u001b[1m  No Changes\u001b[22m\u001b[39m to `C:\\Users\\bonet\\.julia\\environments\\v1.8\\Project.toml`\n",
      "\u001b[32m\u001b[1m  No Changes\u001b[22m\u001b[39m to `C:\\Users\\bonet\\.julia\\environments\\v1.8\\Manifest.toml`\n"
     ]
    }
   ],
   "source": [
    "import Pkg; \n",
    "Pkg.add(\"GraphRecipes\"); Pkg.add(\"Plots\"); \n",
    "using GraphRecipes, Plots #only used to visualize the search tree at the end of the branch-and-bound"
   ]
  },
  {
   "cell_type": "markdown",
   "metadata": {},
   "source": [
    "### Récupération des données"
   ]
  },
  {
   "cell_type": "code",
   "execution_count": 3,
   "metadata": {},
   "outputs": [
    {
     "data": {
      "text/plain": [
       "readKnaptxtInstance (generic function with 1 method)"
      ]
     },
     "metadata": {},
     "output_type": "display_data"
    }
   ],
   "source": [
    "function readKnaptxtInstance(filename)\n",
    "    price=[]\n",
    "    weight=[]\n",
    "    KnapCap=[]\n",
    "    open(filename) do f\n",
    "        for i in 1:3\n",
    "            tok = split(readline(f))\n",
    "            if(tok[1] == \"ListPrices=\")\n",
    "                for i in 2:(length(tok)-1)\n",
    "                    push!(price,parse(Int64, tok[i]))\n",
    "                end\n",
    "            elseif(tok[1] == \"ListWeights=\")\n",
    "                for i in 2:(length(tok)-1)\n",
    "                    push!(weight,parse(Int64, tok[i]))\n",
    "                end\n",
    "            elseif(tok[1] == \"Capacity=\")\n",
    "                push!(KnapCap, parse(Int64, tok[2]))\n",
    "            else\n",
    "                println(\"Unknown read :\", tok)\n",
    "            end \n",
    "        end\n",
    "    end\n",
    "    capacity=KnapCap[1]\n",
    "    return price, weight, capacity\n",
    "end"
   ]
  },
  {
   "attachments": {},
   "cell_type": "markdown",
   "metadata": {},
   "source": [
    "### Tests de sondabilités TA, TO et TR basés sur le modèle linéaire"
   ]
  },
  {
   "cell_type": "code",
   "execution_count": 14,
   "metadata": {},
   "outputs": [
    {
     "data": {
      "text/plain": [
       "TestsSondabilite_relaxlin (generic function with 1 method)"
      ]
     },
     "metadata": {},
     "output_type": "display_data"
    }
   ],
   "source": [
    "function TestsSondabilite_relaxlin(model, Bestsol, BestProfit)\n",
    "    TA, TO, TR = false, false, false\n",
    "    if(!model.feasable)#Test de faisabilite\n",
    "        TA=true\n",
    "        println(\"TA\")\n",
    "    elseif(model.bound <= BestProfit) #Test d'optimalite\n",
    "        TO=true\n",
    "        println(\"TO\")\n",
    "    #elseif( prod(abs.([round.(v, digits=0) for v in listvals]-listvals) .<= fill(10^-5, size(listvals))) \n",
    "    elseif(checksol(model))\n",
    "        #Test de resolution\n",
    "        TR=true\n",
    "        println(\"TR\")\n",
    "        #if (value(benef) >= BestProfit)\n",
    "        if (objectif(model) >= BestProfit)\n",
    "            Bestsol = value.(model.sortedobjects)\n",
    "            #BestProfit=value(benef)\n",
    "            BestProfit=objectif(model)\n",
    "            println(\"\\nNew Solution memorized \", Bestsol, \" with bestprofit \", BestProfit, \"\\n\")\n",
    "        end\n",
    "    else\n",
    "        #println(\"non sondable\")\n",
    "    end\n",
    "    TA, TO, TR, Bestsol, BestProfit\n",
    "end"
   ]
  },
  {
   "cell_type": "markdown",
   "metadata": {},
   "source": [
    "## Procédure de séparation (branching) et stratégie d'exploration permettant de se placer au prochain noeud à traiter"
   ]
  },
  {
   "cell_type": "code",
   "execution_count": 5,
   "metadata": {},
   "outputs": [
    {
     "data": {
      "text/plain": [
       "ExplorerAutreNoeud_relaxlin (generic function with 1 method)"
      ]
     },
     "metadata": {},
     "output_type": "display_data"
    }
   ],
   "source": [
    "\n",
    "function SeparerNoeud_relaxlin(model, listobjs, listvals)\n",
    "    # this obj is non-sondable. Apply the branching criterion to separate it into two subnodes\n",
    "    # and choose the child-obj at the left  \n",
    "    \n",
    "    local nextObj\n",
    "    for (i, obj) in enumerate(model.objects)\n",
    "        if (!obj.fixed) && (model.borne1 || (abs(round(obj.value, digits=0) - obj.value) > 10^-5))\n",
    "            setObj(model,i,1.0)\n",
    "            nextObj = obj\n",
    "            break\n",
    "        end\n",
    "    end\n",
    "\n",
    "    # depthfirst exploration strategy: the node selected will be the most left of the child-nodes just created\n",
    "    push!(listobjs,nextObj) #save the identity of the object selected for branching\n",
    "    push!(listvals,1.0) #save the node selected, identified by the value assigned to the variable/object chosen\n",
    "    listobjs, listvals\n",
    "end\n",
    "\n",
    "\n",
    "function ExplorerAutreNoeud_relaxlin(model, listobjs, listvals, listnodes)\n",
    "    #this node is sondable, go back to parent node then right child if possible\n",
    "    \n",
    "    stop=false\n",
    "    #check if we are not at the root node\n",
    "    if (length(listobjs)>= 1)\n",
    "        #go back to parent node\n",
    "        obj=pop!(listobjs)\n",
    "        val=pop!(listvals)\n",
    "        node=pop!(listnodes)\n",
    "        freeObj(model, obj, 0.0, 1.0)\n",
    "\n",
    "        #go to right child if possible, otherwise go back to parent\n",
    "        while( (val==0.0) && (length(listobjs)>= 1))\n",
    "            obj=pop!(listobjs)\n",
    "            val=pop!(listvals)\n",
    "            node=pop!(listnodes)\n",
    "            freeObj(model, obj, 0.0, 1.0)\n",
    "        end\n",
    "        if val==1.0\n",
    "            setObj(model, obj, 0.0)\n",
    "            push!(listobjs,obj)\n",
    "            push!(listvals,0.0)\n",
    "        else\n",
    "            println(\"\\nFINISHED\")\n",
    "            stop=true\n",
    "        end\n",
    "    else\n",
    "        #the root node was sondable\n",
    "        println(\"\\nFINISHED\")\n",
    "        stop=true\n",
    "    end\n",
    "    return listobjs, listvals, listnodes, stop\n",
    "end"
   ]
  },
  {
   "cell_type": "markdown",
   "metadata": {},
   "source": [
    "###  Création de la relaxation linéaire (= modèle associé au noeud 0): <span style=\"color:red\"> SECTION A SUPPRIMER !!!! </span>\n",
    "\n",
    "<span style=\"color:red\"> Cette section est à commenter/supprimer et remplacer par vos propres calculs de bornes supérieures et autres, par exemple basées sur les bornes 1 et 2 vues en cours, ou d'autres calculs de bornes de votre choix/conception validés au préalable par votre encadrant/e de TP </span>"
   ]
  },
  {
   "cell_type": "code",
   "execution_count": 6,
   "metadata": {},
   "outputs": [
    {
     "data": {
      "text/plain": [
       "borne_sup (generic function with 1 method)"
      ]
     },
     "metadata": {},
     "output_type": "display_data"
    }
   ],
   "source": [
    "mutable struct Object\n",
    "    value :: Float64\n",
    "    minValue :: Float64\n",
    "    maxValue :: Float64\n",
    "    index :: Int64\n",
    "    fixed :: Bool\n",
    "end\n",
    "function value(obj)\n",
    "    return obj.value\n",
    "end\n",
    "\n",
    "function name(obj)\n",
    "    return string(\"x(\", obj.index, \")\")\n",
    "end\n",
    "\n",
    "mutable struct newModel\n",
    "    objects :: Array{Object,1}\n",
    "    sortedobjects :: Array{Object,1}\n",
    "    bound ::Float64\n",
    "    weight :: Array{Int64,1}\n",
    "    price :: Array{Int64,1}\n",
    "    capacity :: Int64\n",
    "    borne1 :: Bool\n",
    "    nb_rest :: Int64\n",
    "    feasable :: Bool\n",
    "end\n",
    "\n",
    "function objectif(model)\n",
    "    return sum([obj.value*model.price[obj.index] for obj in model.sortedobjects])\n",
    "end\n",
    "\n",
    "function setObj(model, obj::Object, value)\n",
    "    obj.fixed = true\n",
    "    obj.value = value\n",
    "    obj.maxValue = value\n",
    "    obj.minValue = value\n",
    "    model.nb_rest -= 1\n",
    "end\n",
    "\n",
    "function setObj(model, index::Int64, value)\n",
    "    obj = model.sortedobjects[index]\n",
    "    setObj(model, obj, value)\n",
    "end\n",
    "\n",
    "function freeObj(model, obj, min, max)\n",
    "    obj.fixed = false\n",
    "    obj.minValue = min\n",
    "    obj.maxValue = max\n",
    "    model.nb_rest += 1\n",
    "end\n",
    "\n",
    "function CreationModele_relaxlin(price, weight, capacity, borne1)\n",
    "    tri_par_ratio = sortperm(price./weight, rev=true)\n",
    "    objs = []\n",
    "    for i in 1:length(price)\n",
    "        push!(objs, Object(0.0, 0.0, 1.0, i, false))\n",
    "    end\n",
    "    model = newModel(objs, view(objs, tri_par_ratio), -Inf, weight, price, capacity, borne1, length(price), false)\n",
    "    return model\n",
    "end\n",
    "\n",
    "function checksol(model)\n",
    "    prob_facile = false\n",
    "    Contrainte_integer = false\n",
    "    if model.borne1\n",
    "        prob_facile = (model.nb_rest == 1)\n",
    "        if prob_facile\n",
    "            for (index, obj) in enumerate(model.sortedobjects)\n",
    "                if !obj.fixed\n",
    "                    listeObjet = []\n",
    "                    listeValeur = []\n",
    "                    for i in 1:length(model.price)\n",
    "                        if model.objects[i].fixed\n",
    "                            listeObjet = [listeObjet ; i]\n",
    "                            listeValeur = [listeValeur ; model.objects[i].value]\n",
    "                        end\n",
    "                    end\n",
    "                    # calcul de la valeur courante et de la capacité restante\n",
    "                    valeur_courante = 0\n",
    "                    capacite_restante = model.capacity\n",
    "                    for i in 1:length(listeObjet)\n",
    "                        if listeValeur[i] == 1\n",
    "                            capacite_restante = capacite_restante - model.weight[listeObjet[i]]\n",
    "                            valeur_courante = valeur_courante + model.price[listeObjet[i]]\n",
    "                        end\n",
    "                    end\n",
    "                    poids = model.weight[obj.index]\n",
    "                    obj.value = capacite_restante >= poids ? 1.0 : 0.0\n",
    "                    break\n",
    "                end\n",
    "            end\n",
    "        end\n",
    "    else\n",
    "        Contrainte_integer = (prod(abs.([round.(obj,digits=0) for obj in value.(model.sortedobjects)] - value.(model.sortedobjects)) .<= fill(10^-5, size(model.sortedobjects))))\n",
    "    end\n",
    "    return prob_facile || Contrainte_integer\n",
    "end\n",
    "\n",
    "# borne1 est un boolean mis à true si la borne supérieure à calculer est la borne 1 et false si c'est la borne 2\n",
    "function borne_sup(model)\n",
    "    listeObjet = []\n",
    "    listeValeur = []\n",
    "    for i in 1:length(model.price)\n",
    "        if model.objects[i].fixed\n",
    "            listeObjet = [listeObjet ; i]\n",
    "            listeValeur = [listeValeur ; model.objects[i].value]\n",
    "        end\n",
    "    end\n",
    "    # calcul de la valeur courante et de la capacité restante\n",
    "    valeur_courante = 0\n",
    "    capacite_restante = model.capacity\n",
    "    for i in 1:length(listeObjet)\n",
    "        if listeValeur[i] == 1\n",
    "            capacite_restante = capacite_restante - model.weight[listeObjet[i]]\n",
    "            valeur_courante = valeur_courante + model.price[listeObjet[i]]\n",
    "        end\n",
    "    end\n",
    "    feasable = capacite_restante >= 10^-5\n",
    "    if feasable\n",
    "        # calcul de la borne sup 1\n",
    "        if model.borne1\n",
    "            for obj in model.sortedobjects\n",
    "                if !(obj.fixed)\n",
    "                    model.bound = valeur_courante + capacite_restante*(model.price[obj.index] / model.weight[obj.index])\n",
    "                end\n",
    "            end\n",
    "        else\n",
    "            # calcul de la borne sup 2\n",
    "            for (index, obj) in enumerate(model.sortedobjects)\n",
    "                if !(obj.fixed)\n",
    "                    if capacite_restante <= 10^-5\n",
    "                        obj.value = 0.0\n",
    "                    else\n",
    "                        poids = model.weight[obj.index]\n",
    "                        if poids <= capacite_restante\n",
    "                            obj.value = 1.0\n",
    "                            capacite_restante -= poids\n",
    "                        else\n",
    "                            obj.value = capacite_restante / poids\n",
    "                            capacite_restante = 0.0\n",
    "                        end\n",
    "                    end\n",
    "                end\n",
    "            model.bound = objectif(model)\n",
    "            end\n",
    "        end\n",
    "    end \n",
    "model.feasable = feasable\n",
    "end\n"
   ]
  },
  {
   "cell_type": "markdown",
   "metadata": {},
   "source": [
    "### Boucle principale : résoudre une relaxation, appliquer les tests de sondabilité, identifier le prochain noeud, répéter."
   ]
  },
  {
   "cell_type": "code",
   "execution_count": 12,
   "metadata": {},
   "outputs": [
    {
     "data": {
      "text/plain": [
       "SolveKnapInstance (generic function with 1 method)"
      ]
     },
     "metadata": {},
     "output_type": "display_data"
    }
   ],
   "source": [
    "\n",
    "function SolveKnapInstance(filename)\n",
    "\n",
    "    price, weight, capacity = readKnaptxtInstance(filename)\n",
    "\n",
    "    model = CreationModele_relaxlin(price, weight, capacity, true)\n",
    "\n",
    "    #create the structure to memorize the search tree for visualization at the end\n",
    "    trParentnodes=Int64[] #will store orig node of arc in search tree\n",
    "    trChildnodes=Int64[] #will store destination node of arc in search tree\n",
    "    trNamenodes=[] #will store names of nodes in search tree\n",
    "\n",
    "    #intermediate structure to navigate in the search tree\n",
    "    listobjs=[]\n",
    "    listvals=[]\n",
    "    listnodes=[]\n",
    "\n",
    "    BestProfit=-1\n",
    "    Bestsol=[]\n",
    "\n",
    "    current_node_number=0\n",
    "    stop = false\n",
    "\n",
    "    while(!stop && current_node_number < 50)\n",
    "    #while(!stop)\n",
    "\n",
    "        #println(\"\\nNode number \", current_node_number, \": \\n---------------\\n\")\n",
    "\n",
    "        #Update the graphical tree\n",
    "        push!(trNamenodes,current_node_number+1) \n",
    "        if(length(trNamenodes)>=2)\n",
    "            push!(trParentnodes,listnodes[end]+1) # +1 because the 1st node is \"node 0\"\n",
    "            push!(trChildnodes, current_node_number+1) # +1 because the 1st node is \"node 0\"\n",
    "        end\n",
    "        push!(listnodes, current_node_number)\n",
    "\n",
    "        #calcul de bornesup\n",
    "        borne_sup(model)\n",
    "        \n",
    "        #println(\"\\nPrevious Solution memorized \", Bestsol, \" with bestprofit \", BestProfit, \"\\n\")\n",
    "\n",
    "        TA, TO, TR, Bestsol, BestProfit = TestsSondabilite_relaxlin(model, Bestsol, BestProfit)\n",
    "\n",
    "        is_node_sondable = TA || TO || TR\n",
    "\n",
    "        #println(\"\\nIs node \", current_node_number, \" sondable ? \", is_node_sondable, \"\\n\")\n",
    "\n",
    "\n",
    "        if(!is_node_sondable)\n",
    "            listobjs, listvals = SeparerNoeud_relaxlin(model,listobjs,listvals)\n",
    "        else\n",
    "            listobjs, listvals, listnodes, stop = ExplorerAutreNoeud_relaxlin(model,listobjs,listvals,listnodes)        \n",
    "        end\n",
    "        current_node_number = current_node_number + 1\n",
    "    end\n",
    "\n",
    "    println(\"\\n******\\n\\nOptimal value = \", BestProfit, \"\\n\\nOptimal x=\", Bestsol)\n",
    "\n",
    "    return BestProfit, Bestsol, trParentnodes, trChildnodes, trNamenodes\n",
    "\n",
    "end\n"
   ]
  },
  {
   "cell_type": "markdown",
   "metadata": {},
   "source": [
    "### Affichage du résultat final"
   ]
  },
  {
   "cell_type": "code",
   "execution_count": 15,
   "metadata": {},
   "outputs": [
    {
     "name": "stdout",
     "output_type": "stream",
     "text": [
      "knapPI_16_20_1000_1_-2291.opb.txt : \n",
      "TR\n",
      "\n",
      "New Solution memorized [1.0, 1.0, 0.0, 0.0, 0.0, 0.0, 0.0, 0.0, 0.0, 0.0, 0.0, 0.0, 0.0, 0.0, 0.0, 0.0, 0.0, 0.0, 0.0, 0.0] with bestprofit 514.0\n",
      "\n",
      "TR\n",
      "\n",
      "New Solution memorized [1.0, 0.0, 1.0, 0.0, 0.0, 0.0, 0.0, 0.0, 0.0, 0.0, 0.0, 0.0, 0.0, 0.0, 0.0, 0.0, 0.0, 0.0, 0.0, 0.0] with bestprofit 740.0\n",
      "\n",
      "TR\n",
      "\n",
      "New Solution memorized [1.0, 1.0, 1.0, 0.0, 0.0, 0.0, 0.0, 0.0, 0.0, 0.0, 0.0, 0.0, 0.0, 0.0, 0.0, 0.0, 0.0, 0.0, 0.0, 0.0] with bestprofit 1143.0\n",
      "\n",
      "TR\n",
      "\n",
      "New Solution memorized [1.0, 1.0, 1.0, 0.0, 0.0, 0.0, 0.0, 0.0,"
     ]
    },
    {
     "name": "stdout",
     "output_type": "stream",
     "text": [
      " 0.0, 0.0, 0.0, 0.0, 0.0, 0.0, 0.0, 0.0, 0.0, 0.0, 0.0, 0.0] with bestprofit 1143.0\n",
      "\n",
      "TR\n",
      "\n",
      "New Solution memorized [1.0, 1.0, 1.0, 0.0, 0.0, 0.0, 0.0, 0.0, 0.0, 0.0, 0.0, 0.0, 0.0, 0.0, 0.0, 0.0, 0.0, 0.0, 0.0, 0.0] with bestprofit 1143.0\n",
      "\n",
      "TR\n",
      "\n",
      "New Solution memorized [1.0, 1.0, 1.0, 0.0, 0.0, 0.0, 0.0, 0.0, 0.0, 0.0, 0.0, 0.0, 0.0, 0.0, 0.0, 0.0, 0.0, 0.0, 0.0, 0.0] with bestprofit 1143.0\n",
      "\n",
      "TR\n",
      "\n",
      "New Solution memorized [1.0, 1.0, 1.0, 1.0, 0.0, 0.0, 0.0, 0.0, 0.0, 0.0, 0.0, 0.0, 0.0, 0.0, 0.0, 0.0, 0.0, 0.0, 0.0, 0.0] with bestprofit 1880.0\n",
      "\n",
      "TR\n",
      "\n",
      "New Solution memorized [1.0, 1.0, 1.0, 1.0, 0.0, 0.0, 0.0, 0.0, 0.0, 0.0, 0.0, 0.0, 0.0, 0.0, 0.0, 0.0, 0.0, 0.0, 0.0, 0.0] with bestprofit 1880.0\n",
      "\n",
      "TO\n",
      "TO\n",
      "TO\n",
      "TO\n",
      "TO\n",
      "TO\n",
      "TO\n",
      "TO\n",
      "TO\n",
      "TO\n",
      "TO\n",
      "TO\n",
      "TO\n"
     ]
    },
    {
     "name": "stdout",
     "output_type": "stream",
     "text": [
      "TO\n",
      "TO\n",
      "TO\n",
      "\n",
      "FINISHED\n",
      "\n",
      "******\n",
      "\n",
      "Optimal value = 1880.0\n",
      "\n",
      "Optimal x=[1.0, 1.0, 1.0, 1.0, 0.0, 0.0, 0.0, 0.0, 0.0, 0.0, 0.0, 0.0, 0.0, 0.0, 0.0, 0.0, 0.0, 0.0, 0.0, 0.0]\n",
      "\n",
      "******\n",
      "\n",
      "Optimal value = 1880.0\n",
      "knapPI_16_20_1000_3_-2189.opb.txt : \n",
      "\n",
      "******\n",
      "\n",
      "Optimal value = -1\n",
      "\n",
      "Optimal x=Any[]\n",
      "\n",
      "******\n",
      "\n",
      "Optimal value = -1\n",
      "knapPI_16_20_1000_5_-3230.opb.txt : \n",
      "\n",
      "******\n",
      "\n",
      "Optimal value = -1\n",
      "\n",
      "Optimal x=Any[]\n",
      "\n",
      "******\n",
      "\n",
      "Optimal value = "
     ]
    },
    {
     "name": "stdout",
     "output_type": "stream",
     "text": [
      "-1\n",
      "knapPI_4_50_1000_1_-994.opb.txt : \n",
      "TA\n",
      "TA\n",
      "\n",
      "FINISHED\n",
      "\n",
      "******\n",
      "\n",
      "Optimal value = -1\n",
      "\n",
      "Optimal x=Any[]\n",
      "\n",
      "******\n",
      "\n",
      "Optimal value = -1\n",
      "knapPI_4_50_1000_5_-1278.opb.txt : \n",
      "\n",
      "******\n",
      "\n",
      "Optimal value = -1\n",
      "\n",
      "Optimal x=Any[]\n",
      "\n",
      "******\n",
      "\n",
      "Optimal value = -1\n",
      "knapPI_5_50_1000_1_-2096.opb.txt : \n",
      "TR\n",
      "\n",
      "New Solution memorized [1.0, 1.0, 0.0, 0.0, 0.0, 0.0, 0.0, 0.0, 0.0, 0.0, 0.0, 0.0, 0.0, 0.0, 0.0, 0.0, 0.0, 0.0, 0.0, 0.0, 0.0, 0.0, 0.0, 0.0, 0.0, 0.0, 0.0, 0.0, 0.0, 0.0, 0.0, 0.0, 0.0, 0.0, 0.0, 0.0, 0.0, 0.0, 0.0, 0.0, 0.0, 0.0, 0.0, 0.0, 0.0, 0.0, 0.0, 0.0, 0.0, 0.0] with bestprofit 236.0\n",
      "\n",
      "\n",
      "******\n",
      "\n",
      "Optimal value = 236.0\n",
      "\n",
      "Optimal x="
     ]
    },
    {
     "name": "stdout",
     "output_type": "stream",
     "text": [
      "[1.0, 1.0, 0.0, 0.0, 0.0, 0.0, 0.0, 0.0, 0.0, 0.0, 0.0, 0.0, 0.0, 0.0, 0.0, 0.0, 0.0, 0.0, 0.0, 0.0, 0.0, 0.0, 0.0, 0.0, 0.0, 0.0, 0.0, 0.0, 0.0, 0.0, 0.0, 0.0, 0.0, 0.0, 0.0, 0.0, 0.0, 0.0, 0.0, 0.0, 0.0, 0.0, 0.0, 0.0, 0.0, 0.0, 0.0, 0.0, 0.0, 0.0]\n",
      "\n",
      "******\n",
      "\n",
      "Optimal value = 236.0\n",
      "knapPI_5_50_1000_4_-1872.opb.txt : \n",
      "\n",
      "******\n",
      "\n",
      "Optimal value = -1\n",
      "\n",
      "Optimal x=Any[]\n",
      "\n",
      "******\n",
      "\n",
      "Optimal value = -1\n",
      "knapPI_6_50_1000_1_-994.opb.txt : \n",
      "TA\n",
      "TA\n",
      "TA\n",
      "TA\n",
      "TA\n",
      "TA\n",
      "TA\n",
      "TA\n",
      "TA\n",
      "TA\n",
      "TA\n",
      "TA\n",
      "TA\n",
      "TA\n",
      "TA\n",
      "TA\n",
      "TA\n",
      "TA\n",
      "TA\n",
      "TA\n",
      "TA\n",
      "TA\n",
      "\n",
      "******\n",
      "\n",
      "Optimal value = -1\n",
      "\n",
      "Optimal x=Any[]\n",
      "\n",
      "******\n",
      "\n",
      "Optimal value = -1\n"
     ]
    }
   ],
   "source": [
    "\n",
    "for file in cd(readdir, \"instanceTest/\")\n",
    "    println(file, \" : \")\n",
    "    BestProfit, Bestsol, trParentnodes, trChildnodes, trNamenodes = SolveKnapInstance(\"instanceTest/\"*file)\n",
    "    println(\"\\n******\\n\\nOptimal value = \", BestProfit)\n",
    "end"
   ]
  },
  {
   "attachments": {},
   "cell_type": "markdown",
   "metadata": {},
   "source": [
    "## Questions préliminaires\n",
    "\n",
    "### Question 1\n",
    "Dans le Branch-and-Bound fourni initialement dans le notebook, la règle de séparation consiste à prendre les objets dans l'ordre.\n",
    "\n",
    "### Question 2\n",
    "La méthode de calcul de la borne supérieure est basée sur la solution du problème linéaire sans contraintes d'intégrité et dans lequel on autorise la fractionnalité des objets.\n",
    "\n",
    "### Question 3\n",
    "TA : Test d'admissibilité réussi si la capacité restante est strictement négative.\n",
    "TO : Test d'optimalité réussi la borne supérieure est pire que la meilleure solution connue\n",
    "TR : Test de résolution réussi quand toutes les valeurs des variables sont entières (à 10^-5 près)\n",
    "\n",
    "### Question 4\n",
    "La stratégie d'exploration correspond à du depth-first exploration research : recherche en profondeur avec priorité au noeud de gauche."
   ]
  },
  {
   "attachments": {},
   "cell_type": "markdown",
   "metadata": {},
   "source": [
    "## Code et analyse \n",
    "\n",
    "### Question 3\n",
    "-Pour la règle de séparation, on choisit les variables dans l'ordre décroissant du ratio valeur/poids. \n",
    "\n",
    "-Pour la stratégie d'exploration, on effectue un parcours en profondeur, en explorant d'abord les noeuds pour lesquels on décide de mettre l'objet (celui qui a servi de critère de séparation) dans le sac.\n",
    "\n",
    "-Pour le test d'admissibilité, on vérifie si le problème n'est pas réalisable (capacité restante < 0)\n",
    "\n",
    "-Pour le test d'optimalité, on vérifie si la borne supérieure est inférieure à la meilleure solution connue\n",
    "\n",
    "-Pour le test de résolution, on vérifie si on est arrivé sur une feuille de l'arbre, c'est à dire qu'il ne reste plus qu'un seul objet à prendre (ou non si la capacité restante ne le permet pas).\n",
    "\n",
    "### Question 4\n",
    "On a décidé de garder un modèle, qui est modélisé par une structure de données mutable, car les valeurs de ses données changent au cours de l'exécution du programme. Les données du modèle sont notamment : une liste d'objets, on retrouve aussi la liste des poids, des prix, la capacité, la borne supérieure ou encore le nombre d'objets restant qui n'a pas encore été mis dans le sac et un booléen qui indique si le modèle peut se résoudre ou non. Objet est lui-même une structure de données mutable qui contient le a valeur de l'objet, son indice et un booléen pour savoir s'il est utilisé ou non. Les tests de sondabilité restent des booléens.\n",
    "\n",
    "### Question 5\n",
    "Malheureusement, nous n'avons pas réussi à faire fonctionner la borne 2. En revanche, on s'attend à ce que la borne 2 rende l'algorithme plus efficace. En effet, la borne 2 correspond à la solution du problème linéaire avec contraintes d'intégrité, mais qui autorise comme la borne 1 la fractionnalité des objets. Ce qui veut dire que la borne 1 qui possède moins de contraintes sera normalement plus grande que la borne 2, ainsi, on s'attend à ce que le test d'optimalité soit plus souvent réussi avec la borne 2 que la borne 1 et donc que l'algorithme effectue moins de séparation de noeud quand il utilise la borne 2, ce qui lui permettra d'aller plus vite dans sa résolution et donc d'avoir de meilleures performances.\n"
   ]
  }
 ],
 "metadata": {
  "kernelspec": {
   "display_name": "Julia 1.8.3",
   "language": "julia",
   "name": "julia-1.8"
  },
  "language_info": {
   "file_extension": ".jl",
   "mimetype": "application/julia",
   "name": "julia",
   "version": "1.8.3"
  }
 },
 "nbformat": 4,
 "nbformat_minor": 4
}
