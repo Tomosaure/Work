{
 "cells": [
  {
   "cell_type": "code",
   "execution_count": 3,
   "metadata": {},
   "outputs": [
    {
     "data": {
      "text/plain": [
       "bellman_ford_path_cost (generic function with 1 method)"
      ]
     },
     "metadata": {},
     "output_type": "display_data"
    }
   ],
   "source": [
    "function bellman_ford_path_cost(G, s, t)\n",
    "    # G est le graphe sous la forme d'une liste d'adjacence\n",
    "    # s et t sont les sommets source et cible\n",
    "    # Initialisation de la distance de tous les sommets à l'infini, sauf pour le sommet source\n",
    "    d = Inf * ones(length(G))\n",
    "    d[s] = 0\n",
    "    # Initialisation du tableau des prédécesseurs de tous les sommets\n",
    "    p = [-1 for i in 1:length(G)]\n",
    "    # Répéter n-1 fois, où n est le nombre de sommets du graphe\n",
    "    for i in 1:length(G)-1\n",
    "      # Mettre à jour les distances et les prédécesseurs des sommets voisins du sommet actuel\n",
    "      for u in 1:length(G)\n",
    "        for (v, w) in G[u]\n",
    "          if d[v] > d[u] + w\n",
    "            d[v] = d[u] + w\n",
    "            p[v] = u\n",
    "          end\n",
    "        end\n",
    "      end\n",
    "    end\n",
    "\n",
    "    # Construire le chemin en remontant les prédécesseurs à partir du sommet cible\n",
    "    path = [t]\n",
    "    while t != s\n",
    "      t = p[t]\n",
    "      push!(path, t)\n",
    "    end\n",
    "    # Renverser le chemin pour qu'il soit dans l'ordre\n",
    "    path = reverse(path)\n",
    "    # Calculer le coût du chemin en sommant les poids des arêtes\n",
    "    cost = 0\n",
    "    for i in 1:length(path)-1\n",
    "        for (v, w) in G[path[i]]\n",
    "            if v == path[i+1]\n",
    "                cost += w\n",
    "            end\n",
    "        end\n",
    "    end\n",
    "    # Renvoyer le chemin et son coût\n",
    "    return (path, cost)\n",
    "  end\n",
    "  "
   ]
  },
  {
   "cell_type": "code",
   "execution_count": 4,
   "metadata": {},
   "outputs": [
    {
     "name": "stdout",
     "output_type": "stream",
     "text": [
      "Chemin : [1, 2, 3, 4, 6]\n",
      "Coût : 12\n"
     ]
    }
   ],
   "source": [
    "# Grahpe de l'exemple sous forme de liste d'adjacence avec poids (Noeud 1 = Noeud A, Noeud 2 = Noeud B, etc.)\n",
    "G = [[(2, 3), (5, 5)], [(5, Inf), (1,3), (3,4)], [(2, 4), (4, 2)], [(6, 3), (5, 9), (3,2)], [(1,5), (2,Inf), (4,9)], [(4,6)]]\n",
    "# Calculer le chemin le plus court entre les sommets A et F, ainsi que son coût\n",
    "path, cost = bellman_ford_path_cost(G, 1, 6)\n",
    "# Afficher le chemin et son coût\n",
    "println(\"Chemin : $(path)\")\n",
    "println(\"Coût : $cost\")"
   ]
  }
 ],
 "metadata": {
  "kernelspec": {
   "display_name": "Julia 1.8.3",
   "language": "julia",
   "name": "julia-1.8"
  },
  "language_info": {
   "file_extension": ".jl",
   "mimetype": "application/julia",
   "name": "julia",
   "version": "1.8.3"
  },
  "orig_nbformat": 4
 },
 "nbformat": 4,
 "nbformat_minor": 2
}
