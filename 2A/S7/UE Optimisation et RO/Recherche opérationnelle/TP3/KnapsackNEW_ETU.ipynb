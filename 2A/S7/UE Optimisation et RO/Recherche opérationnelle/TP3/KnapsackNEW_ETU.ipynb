{
 "cells": [
  {
   "cell_type": "markdown",
   "metadata": {},
   "source": [
    "# TP 2-3 : Branch-and-bound applied to a knapsack problem"
   ]
  },
  {
   "cell_type": "markdown",
   "metadata": {},
   "source": [
    "### Initialisation (à faire une seule fois)"
   ]
  },
  {
   "cell_type": "code",
   "execution_count": 1,
   "metadata": {},
   "outputs": [
    {
     "name": "stderr",
     "output_type": "stream",
     "text": [
      "\u001b[32m\u001b[1m    Updating\u001b[22m\u001b[39m registry at `C:\\Users\\bonet\\.julia\\registries\\General`"
     ]
    },
    {
     "name": "stderr",
     "output_type": "stream",
     "text": [
      "\n",
      "\u001b[32m\u001b[1m    Updating\u001b[22m\u001b[39m git-repo `https://github.com/JuliaRegistries/General.git`\n"
     ]
    },
    {
     "name": "stderr",
     "output_type": "stream",
     "text": [
      "\u001b[32m\u001b[1m   Resolving\u001b[22m\u001b[39m package versions...\n"
     ]
    },
    {
     "name": "stderr",
     "output_type": "stream",
     "text": [
      "\u001b[32m\u001b[1m  No Changes\u001b[22m\u001b[39m to `C:\\Users\\bonet\\.julia\\environments\\v1.8\\Project.toml`\n",
      "\u001b[32m\u001b[1m  No Changes\u001b[22m\u001b[39m to `C:\\Users\\bonet\\.julia\\environments\\v1.8\\Manifest.toml`"
     ]
    },
    {
     "name": "stderr",
     "output_type": "stream",
     "text": [
      "\n"
     ]
    },
    {
     "name": "stderr",
     "output_type": "stream",
     "text": [
      "\u001b[32m\u001b[1m   Resolving\u001b[22m\u001b[39m package versions..."
     ]
    },
    {
     "name": "stderr",
     "output_type": "stream",
     "text": [
      "\n",
      "\u001b[32m\u001b[1m  No Changes\u001b[22m\u001b[39m to `C:\\Users\\bonet\\.julia\\environments\\v1.8\\Project.toml`\n",
      "\u001b[32m\u001b[1m  No Changes\u001b[22m\u001b[39m to `C:\\Users\\bonet\\.julia\\environments\\v1.8\\Manifest.toml`"
     ]
    },
    {
     "name": "stderr",
     "output_type": "stream",
     "text": [
      "\n"
     ]
    }
   ],
   "source": [
    "import Pkg; \n",
    "Pkg.add(\"GraphRecipes\"); Pkg.add(\"Plots\"); \n",
    "using GraphRecipes, Plots #only used to visualize the search tree at the end of the branch-and-bound"
   ]
  },
  {
   "cell_type": "markdown",
   "metadata": {},
   "source": [
    "### Récupération des données"
   ]
  },
  {
   "cell_type": "code",
   "execution_count": 2,
   "metadata": {},
   "outputs": [
    {
     "data": {
      "text/plain": [
       "readKnaptxtInstance (generic function with 1 method)"
      ]
     },
     "metadata": {},
     "output_type": "display_data"
    }
   ],
   "source": [
    "function readKnaptxtInstance(filename)\n",
    "    price=[]\n",
    "    weight=[]\n",
    "    KnapCap=[]\n",
    "    open(filename) do f\n",
    "        for i in 1:3\n",
    "            tok = split(readline(f))\n",
    "            if(tok[1] == \"ListPrices=\")\n",
    "                for i in 2:(length(tok)-1)\n",
    "                    push!(price,parse(Int64, tok[i]))\n",
    "                end\n",
    "            elseif(tok[1] == \"ListWeights=\")\n",
    "                for i in 2:(length(tok)-1)\n",
    "                    push!(weight,parse(Int64, tok[i]))\n",
    "                end\n",
    "            elseif(tok[1] == \"Capacity=\")\n",
    "                push!(KnapCap, parse(Int64, tok[2]))\n",
    "            else\n",
    "                println(\"Unknown read :\", tok)\n",
    "            end \n",
    "        end\n",
    "    end\n",
    "    capacity=KnapCap[1]\n",
    "    return price, weight, capacity\n",
    "end"
   ]
  },
  {
   "cell_type": "code",
   "execution_count": 3,
   "metadata": {},
   "outputs": [
    {
     "data": {
      "text/plain": [
       "creerTableau (generic function with 1 method)"
      ]
     },
     "metadata": {},
     "output_type": "display_data"
    }
   ],
   "source": [
    "function creerTableau(prix, poids, capacite)\n",
    "    n = length(prix)\n",
    "    tableau = zeros(Int64, n, capacite + 1)\n",
    "    # Initialisation de la première ligne\n",
    "    tableau[1,1:poids[1]] .= 0\n",
    "    tableau[1,(poids[1]+1):end] .= prix[1]\n",
    "    for i in 2:n\n",
    "        for j in 1:(capacite + 1)\n",
    "            # Si le poids de l'objet est supérieur à la capacité, on prend la valeur de la ligne précédente\n",
    "            if poids[i] > j-1 \n",
    "                tableau[i,j] = tableau[i-1,j]\n",
    "            # Sinon, on prend le maximum entre la valeur de la ligne précédente et la valeur de l'objet + la valeur de la ligne précédente à la capacité - le poids de l'objet\n",
    "            else\n",
    "                tableau[i,j] = max(tableau[i-1,j],prix[i] + tableau[i-1,j-poids[i]])\n",
    "            end\n",
    "        end\n",
    "    end\n",
    "    return tableau\n",
    "end\n"
   ]
  },
  {
   "cell_type": "code",
   "execution_count": 4,
   "metadata": {},
   "outputs": [
    {
     "data": {
      "text/plain": [
       "SolveKnapInstance (generic function with 1 method)"
      ]
     },
     "metadata": {},
     "output_type": "display_data"
    }
   ],
   "source": [
    "\n",
    "function SolveKnapInstance(filename)\n",
    "\n",
    "    price, weight, capacity = readKnaptxtInstance(filename)\n",
    "\n",
    "    tableau = creerTableau(price, weight, capacity)\n",
    "\n",
    "    solution = tableau[end,end]\n",
    "\n",
    "    return solution\n",
    "\n",
    "end\n"
   ]
  },
  {
   "cell_type": "code",
   "execution_count": 6,
   "metadata": {},
   "outputs": [
    {
     "name": "stdout",
     "output_type": "stream",
     "text": [
      "65\n"
     ]
    },
    {
     "name": "stdout",
     "output_type": "stream",
     "text": [
      "knapPI_16_20_1000_1_-2291.opb.txt : 2291\n",
      "knapPI_16_20_1000_3_-2189.opb.txt : 3267\n",
      "knapPI_16_20_1000_5_-3230.opb.txt : "
     ]
    },
    {
     "name": "stdout",
     "output_type": "stream",
     "text": [
      "4437\n"
     ]
    },
    {
     "name": "stdout",
     "output_type": "stream",
     "text": [
      "knapPI_4_50_10000_5_-11993.opb.txt : 12005\n",
      "knapPI_4_50_1000_1_-994.opb.txt : 994\n"
     ]
    },
    {
     "name": "stdout",
     "output_type": "stream",
     "text": [
      "knapPI_4_50_1000_5_-1278.opb.txt : 1280\n"
     ]
    },
    {
     "name": "stdout",
     "output_type": "stream",
     "text": [
      "knapPI_5_50_10000_2_-18843.opb.txt : 24908\n"
     ]
    },
    {
     "name": "stdout",
     "output_type": "stream",
     "text": [
      "knapPI_5_50_10000_4_-18105.opb.txt : 32113\n",
      "knapPI_5_50_1000_1_-2096.opb.txt : 2096\n"
     ]
    },
    {
     "name": "stdout",
     "output_type": "stream",
     "text": [
      "knapPI_5_50_1000_4_-1872.opb.txt : 2977\n"
     ]
    }
   ],
   "source": [
    "println(SolveKnapInstance(\"instancesETU/KNAPnewformat/test.opb.txt\"))\n",
    "\n",
    "for file in cd(readdir, \"instanceTest/\")\n",
    "    println(file, \" : \", SolveKnapInstance(\"instanceTest/\"*file))\n",
    "end"
   ]
  },
  {
   "attachments": {},
   "cell_type": "markdown",
   "metadata": {},
   "source": [
    " ## Réponses aux questions \n",
    " \n",
    " 1. Implémentation\n",
    "   \n",
    " 2. Le résultat est en adéquation avec la solution optimale car l'algorithme décompose le problème en étapes et chaque étape corresponds à un sous problème résolu optimalement grâce à une relation de récurrence entre les infos de l'étape courante et celles obtenues lors des étapes précédentes. Ainsi le résultat de chaque étape est optimal et le résultat final est optimal.\n",
    "   \n",
    " 3. Notre algorithme est décomposé en deux fonctions.\n",
    "   \n",
    "La première fonction prend en argument trois paramètres :\n",
    "\n",
    "  -prix est un tableau des valeurs des objets\n",
    "  -poids est un tableau des poids des objets\n",
    "  -capacite est la capacité du sac à dos\n",
    "\n",
    "Elle crée un tableau à deux dimensions, avec des lignes correspondant aux objets et des colonnes correspondant aux capacités possibles du sac à dos. La tableau est initialisé avec des zéros, puis les valeurs de la première ligne sont remplies en utilisant un cas spécial pour le premier objet. (Si le poids de l'objet est supérieur à la capacité, la valeur est zéro, sinon elle est égale à la valeur de l'objet).\n",
    "\n",
    "La fonction parcourt ensuite les objets restants et, pour chaque objet, parcourt toutes les capacités possibles du sac à dos. Pour chaque capacité, elle calcule la valeur maximale qui peut être obtenue en ne prenant pas l'objet actuel ou en prenant l'objet actuel et en soustraisant son poids de la capacité. Le maximum de ces deux valeurs est alors enregistré dans le tableau.\n",
    "\n",
    "La fonction retourne le tableau ainsi créé.\n",
    "\n",
    "La deuxième fonction recupère les données du problème puis utilise la première fonction pour créer le tableau et enfin renvoie la dernière case tu tableau qui correspond à la solution.\n",
    "\n",
    "4. On test pour différentes instances de tailles différentes les deux algorithme, celui du TP2 basé sur le branch and bound et celui du TP3 basé la programmation dynamique. Pour l'instance exemple du TP2, les deux algorithme trouvent bien 65, ce qui est logique puisque l'instance possède un jeu de données minime. \n",
    "\n",
    "Voici les résultats pour différentes instances : \n",
    "\n",
    "knapPI_16_20_1000_1_-2291.opb.txt : 2291 $\\newline$\n",
    "knapPI_16_20_1000_3_-2189.opb.txt : 3267 $\\newline$\n",
    "knapPI_16_20_1000_5_-3230.opb.txt :4437 $\\newline$\n",
    "knapPI_4_50_10000_5_-11993.opb.txt : 12005  $\\newline$\n",
    "knapPI_4_50_1000_1_-994.opb.txt : 994 $\\newline$\n",
    "knapPI_4_50_1000_5_-1278.opb.txt : 1280 $\\newline$\n",
    "knapPI_5_50_10000_2_-18843.opb.txt : 24908 $\\newline$\n",
    "knapPI_5_50_10000_4_-18105.opb.txt : 32113 $\\newline$\n",
    "knapPI_5_50_1000_1_-2096.opb.txt : 2096 $\\newline$\n",
    "knapPI_5_50_1000_4_-1872.opb.txt : 2977\n",
    "\n",
    "De son côté, l'algorithme que nous avons implémenté pour le TP2 donne des résultats incohérents pour la plupart de nos tests, ce qui est sans doute dû à une erreur dans l'implémentation de l'algorithme.\n",
    "\n",
    "De manière générale, il semblerait que la méthode par programmation dynamique est plus efficace que la méthode de recherche approfondie de branch and bound pour des problèmes avec des jeux de données importants. En revanche, pour des jeux de données plus petits, la méthode de recherche approfondie est plus efficace. Ces observations sont en accord avec les calculs de complexité théorique des deux algorithmes : O(n*m) pour la programmation dynamique et O(2^n) pour la recherche approfondie.\n"
   ]
  }
 ],
 "metadata": {
  "kernelspec": {
   "display_name": "Julia 1.8.3",
   "language": "julia",
   "name": "julia-1.8"
  },
  "language_info": {
   "file_extension": ".jl",
   "mimetype": "application/julia",
   "name": "julia",
   "version": "1.8.3"
  }
 },
 "nbformat": 4,
 "nbformat_minor": 4
}
